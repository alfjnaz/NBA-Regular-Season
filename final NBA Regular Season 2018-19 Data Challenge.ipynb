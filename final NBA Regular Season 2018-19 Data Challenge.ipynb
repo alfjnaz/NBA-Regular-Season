{
 "cells": [
  {
   "cell_type": "markdown",
   "metadata": {},
   "source": [
    "# Nba Regular Season 2018-19 Data Challenge\n",
    "\n",
    "Your task will be to take the dataset given, and create an analysis answering the following 10 questions. This project will again test your knowledge of pandas in order to find the answers needed given the data you are presented with."
   ]
  },
  {
   "cell_type": "markdown",
   "metadata": {},
   "source": [
    "# What was the average age of player in the league?"
   ]
  },
  {
   "cell_type": "code",
   "execution_count": 41,
   "metadata": {},
   "outputs": [
    {
     "name": "stdout",
     "output_type": "stream",
     "text": [
      "The average age of players in the league is 25.900191938579656\n"
     ]
    }
   ],
   "source": [
    "import pandas as pd\n",
    "df = pd.read_csv('/Users/alfred/Downloads/nbastats2018-2019.csv')\n",
    "average_age = df['Age'].mean()\n",
    "print(f'The average age of players in the league is {average_age}')\n"
   ]
  },
  {
   "cell_type": "markdown",
   "metadata": {},
   "source": [
    "# What player scored the most points?"
   ]
  },
  {
   "cell_type": "code",
   "execution_count": 40,
   "metadata": {},
   "outputs": [
    {
     "name": "stdout",
     "output_type": "stream",
     "text": [
      "The player who scored the most points is James Harden\n"
     ]
    }
   ],
   "source": [
    "import pandas as pd\n",
    "df = pd.read_csv('/Users/alfred/Downloads/nbastats2018-2019.csv')\n",
    "top_scorer = df[df['Points'] == df['Points'].max()]['Name'].values[0]\n",
    "print(f'The player who scored the most points is {top_scorer}')\n"
   ]
  },
  {
   "cell_type": "markdown",
   "metadata": {},
   "source": [
    "# What player had the most blocks during the season? Was it a post player (F/C)?"
   ]
  },
  {
   "cell_type": "code",
   "execution_count": 39,
   "metadata": {},
   "outputs": [
    {
     "name": "stdout",
     "output_type": "stream",
     "text": [
      "The player who had the most blocks was a post player center, Myles Turner\n"
     ]
    }
   ],
   "source": [
    "import pandas as pd\n",
    "df = pd.read_csv('/Users/alfred/Downloads/nbastats2018-2019.csv')\n",
    "top_blocker = df[df['Blocks'] == df['Blocks'].max()]\n",
    "player_name = top_blocker['Name'].values[0]\n",
    "print(f'The player who had the most blocks was a post player center, {player_name}')\n"
   ]
  },
  {
   "cell_type": "markdown",
   "metadata": {},
   "source": [
    "# Based on the regular season, who had the best chance to win a title given their win percentage?"
   ]
  },
  {
   "cell_type": "code",
   "execution_count": 38,
   "metadata": {},
   "outputs": [
    {
     "name": "stdout",
     "output_type": "stream",
     "text": [
      "The player with the best chance to win a title based on their win shares is James Harden\n"
     ]
    }
   ],
   "source": [
    "import pandas as pd\n",
    "df = pd.read_csv('/Users/alfred/Downloads/nbastats2018-2019.csv')\n",
    "best_player = df[df['WS'] == df['WS'].max()]['Name'].values[0]\n",
    "print(f'The player with the best chance to win a title based on their win shares is {best_player}')\n"
   ]
  },
  {
   "cell_type": "markdown",
   "metadata": {},
   "source": [
    "# What player had the best 3-pt percentage? "
   ]
  },
  {
   "cell_type": "code",
   "execution_count": 37,
   "metadata": {},
   "outputs": [
    {
     "name": "stdout",
     "output_type": "stream",
     "text": [
      "The player with the best 3-point percentage is Trevon Duval\n"
     ]
    }
   ],
   "source": [
    "import pandas as pd\n",
    "df = pd.read_csv('/Users/alfred/Downloads/nbastats2018-2019.csv')\n",
    "best_3pt_player = df[df['FG3%'] == df['FG3%'].max()]['Name'].values[0]\n",
    "print(f'The player with the best 3-point percentage is {best_3pt_player}')\n"
   ]
  },
  {
   "cell_type": "markdown",
   "metadata": {},
   "source": [
    "# Who played the most minutes during the season"
   ]
  },
  {
   "cell_type": "code",
   "execution_count": 36,
   "metadata": {},
   "outputs": [
    {
     "name": "stdout",
     "output_type": "stream",
     "text": [
      "The player who played the most minutes during the season is Bradley Beal\n"
     ]
    }
   ],
   "source": [
    "import pandas as pd\n",
    "df = pd.read_csv('/Users/alfred/Downloads/nbastats2018-2019.csv')\n",
    "most_minutes_player = df[df['MP'] == df['MP'].max()]['Name'].values[0]\n",
    "print(f'The player who played the most minutes during the season is {most_minutes_player}')\n"
   ]
  },
  {
   "cell_type": "markdown",
   "metadata": {},
   "source": [
    "# What player given their player effiecency rating was the clutchest during the season?"
   ]
  },
  {
   "cell_type": "code",
   "execution_count": 35,
   "metadata": {},
   "outputs": [
    {
     "name": "stdout",
     "output_type": "stream",
     "text": [
      "The player with the highest Player Efficiency Rating (PER) is Zhou Qi\n"
     ]
    }
   ],
   "source": [
    "import pandas as pd\n",
    "df = pd.read_csv('/Users/alfred/Downloads/nbastats2018-2019.csv')\n",
    "clutch_player = df[df['PER'] == df['PER'].max()]['Name'].values[0]\n",
    "print(f'The player with the highest Player Efficiency Rating (PER) is {clutch_player}')\n"
   ]
  },
  {
   "cell_type": "markdown",
   "metadata": {},
   "source": [
    "# What team had the youngest roster?"
   ]
  },
  {
   "cell_type": "code",
   "execution_count": 34,
   "metadata": {},
   "outputs": [
    {
     "name": "stdout",
     "output_type": "stream",
     "text": [
      "The team with the youngest roster is Chicago Bulls with an average age of 24.3125\n"
     ]
    }
   ],
   "source": [
    "import pandas as pd\n",
    "df = pd.read_csv('/Users/alfred/Downloads/nbastats2018-2019.csv')\n",
    "average_age = df.groupby('Team')['Age'].mean()\n",
    "youngest_team = average_age.idxmin()\n",
    "youngest_team_avg_age = average_age.min()\n",
    "print(f'The team with the youngest roster is {youngest_team} with an average age of {youngest_team_avg_age}')\n"
   ]
  },
  {
   "cell_type": "markdown",
   "metadata": {},
   "source": [
    "# Who is the highest paid player during the seasion?"
   ]
  },
  {
   "cell_type": "code",
   "execution_count": 33,
   "metadata": {},
   "outputs": [
    {
     "name": "stdout",
     "output_type": "stream",
     "text": [
      "The highest paid player during the season is Stephen Curry\n"
     ]
    }
   ],
   "source": [
    "import pandas as pd\n",
    "df = pd.read_csv('/Users/alfred/Downloads/nbastats2018-2019.csv')\n",
    "df['Salary'] = pd.to_numeric(df['Salary'], errors='coerce')\n",
    "highest_paid_player = df[df['Salary'] == df['Salary'].max()]['Name'].values[0]\n",
    "print(f'The highest paid player during the season is {highest_paid_player}')\n"
   ]
  },
  {
   "cell_type": "markdown",
   "metadata": {},
   "source": [
    "# At the end of a game, who WOULDN'T you want on the Free Throw Line?"
   ]
  },
  {
   "cell_type": "code",
   "execution_count": 32,
   "metadata": {},
   "outputs": [
    {
     "name": "stdout",
     "output_type": "stream",
     "text": [
      "At the end of a game, you wouldn't want Jacob Evans on the Free Throw Line\n"
     ]
    }
   ],
   "source": [
    "import pandas as pd\n",
    "df = pd.read_csv('/Users/alfred/Downloads/nbastats2018-2019.csv')\n",
    "df['FT%'] = pd.to_numeric(df['FT%'], errors='coerce')\n",
    "worst_ft_player = df[df['FT%'] == df['FT%'].min()]['Name'].values[0]\n",
    "print(f'At the end of a game, you wouldn\\'t want {worst_ft_player} on the Free Throw Line')\n"
   ]
  }
 ],
 "metadata": {
  "kernelspec": {
   "display_name": "Python 3",
   "language": "python",
   "name": "python3"
  },
  "language_info": {
   "codemirror_mode": {
    "name": "ipython",
    "version": 3
   },
   "file_extension": ".py",
   "mimetype": "text/x-python",
   "name": "python",
   "nbconvert_exporter": "python",
   "pygments_lexer": "ipython3",
   "version": "3.12.1"
  }
 },
 "nbformat": 4,
 "nbformat_minor": 2
}
